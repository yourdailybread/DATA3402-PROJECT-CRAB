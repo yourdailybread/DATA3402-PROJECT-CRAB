{
 "cells": [
  {
   "cell_type": "code",
   "execution_count": null,
   "id": "91a04ca7-0659-4867-8e1f-cab752ef34ee",
   "metadata": {},
   "outputs": [],
   "source": [
    "import pandas as pd\n",
    "import matplotlib.pyplot as plt\n",
    "import seaborn as sns\n",
    "from sklearn.preprocessing import LabelEncoder, StandardScaler\n",
    "from sklearn.model_selection import train_test_split\n",
    "from sklearn.linear_model import LinearRegression\n",
    "from sklearn.linear_model import LogisticRegression\n",
    "from sklearn import linear_model"
   ]
  },
  {
   "cell_type": "code",
   "execution_count": null,
   "id": "7d983bf6-5f75-44b6-96db-add2c81495ba",
   "metadata": {},
   "outputs": [],
   "source": [
    "df = pd.read_csv('train.csv')\n",
    "df.isna().sum()"
   ]
  },
  {
   "cell_type": "code",
   "execution_count": null,
   "id": "ef2b890b-cbeb-4a31-8d76-76024bc10084",
   "metadata": {},
   "outputs": [],
   "source": [
    "df.dtypes"
   ]
  },
  {
   "cell_type": "code",
   "execution_count": null,
   "id": "6cc40602-6b59-4f3e-82d8-8364715f1144",
   "metadata": {},
   "outputs": [],
   "source": [
    "from sklearn.preprocessing import LabelEncoder\n",
    "encoding =LabelEncoder()\n",
    "df[\"Sex\"]=encoding.fit_transform(df[\"Sex\"])"
   ]
  },
  {
   "cell_type": "markdown",
   "id": "bf7db480-4d2f-49c7-ba26-a2d20a0f02b3",
   "metadata": {},
   "source": [
    "**I set my x-value and my y-value equal to length and age** "
   ]
  },
  {
   "cell_type": "code",
   "execution_count": null,
   "id": "f2b9e4c8-7189-48da-af6c-629258c6cf50",
   "metadata": {},
   "outputs": [],
   "source": [
    "x=df.iloc[:,:-1]\n",
    "x"
   ]
  },
  {
   "cell_type": "code",
   "execution_count": null,
   "id": "15a741d5-db3e-44b5-a492-28f542361183",
   "metadata": {},
   "outputs": [],
   "source": [
    "#making my y value\n",
    "y=df.iloc[:,-1]\n",
    "y"
   ]
  },
  {
   "cell_type": "code",
   "execution_count": null,
   "id": "221fb0c5-e0ac-454d-9d2f-f51909b7ded3",
   "metadata": {},
   "outputs": [],
   "source": [
    "from sklearn.preprocessing import MinMaxScaler\n",
    "\n",
    "min_max_s=MinMaxScaler()\n",
    "x=min_max_s.fit_transform(x)\n",
    "\n",
    "from sklearn.model_selection import train_test_split\n",
    "x_train,x_test,y_train,y_test=train_test_split(x,y,random_state=1,test_size=.5)"
   ]
  },
  {
   "cell_type": "code",
   "execution_count": null,
   "id": "3ef036fd-8cd8-4e07-a4fe-4bd2fd9617cf",
   "metadata": {},
   "outputs": [],
   "source": [
    "from sklearn.linear_model import LinearRegression\n",
    "multiple_lr=LinearRegression()\n",
    "multiple_lr.fit(x_train,y_train)\n",
    "y_pred=multiple_lr.predict(x_test)\n",
    "y_pred"
   ]
  },
  {
   "cell_type": "code",
   "execution_count": null,
   "id": "0d19427f-f1dc-4c39-9579-b8a89ec1ef13",
   "metadata": {},
   "outputs": [],
   "source": [
    "#Multiple reg performance measure\n",
    "import numpy as np\n",
    "from sklearn.metrics import mean_absolute_error,mean_squared_error,r2_score\n",
    "print(\"r2_score\",r2_score(y_test,y_pred))\n",
    "print(\"mean squred error\",mean_squared_error(y_test,y_pred))\n",
    "print(\"mean absolute error\",mean_absolute_error(y_test,y_pred))\n",
    "print(\"root mean squred error\",np.sqrt(mean_squared_error(y_test,y_pred)))\n"
   ]
  },
  {
   "cell_type": "code",
   "execution_count": null,
   "id": "2fc412fa-365b-4411-8bcb-640d3c52bdb4",
   "metadata": {},
   "outputs": [],
   "source": [
    "#SVR model building\n",
    "from sklearn.svm import SVR\n",
    "vector_reg=SVR()\n",
    "vector_reg.fit(x_train,y_train)\n",
    "code_predict=sv.predict(x_test)\n",
    "code_predict"
   ]
  },
  {
   "cell_type": "code",
   "execution_count": null,
   "id": "85e74f4c-24d6-400e-bc27-7cb99ddabbf6",
   "metadata": {},
   "outputs": [],
   "source": [
    "#SVR PERFORMANCE_MEASURE\n",
    "import numpy as np\n",
    "from sklearn.metrics import mean_absolute_error,mean_squared_error,r2_score\n",
    "print(\"mean absolute error\",mean_absolute_error(y_test,yp))\n",
    "print(\"mean squred error\",mean_squared_error(y_test,yp))\n",
    "print(\"root mean squred error\",np.sqrt(mean_squared_error(y_test,yp)))\n",
    "print(\"r2_score\",r2_score(y_test,yp))"
   ]
  },
  {
   "cell_type": "code",
   "execution_count": null,
   "id": "3443dfad-5eff-4d6c-ba10-68407770d356",
   "metadata": {},
   "outputs": [],
   "source": []
  },
  {
   "cell_type": "code",
   "execution_count": null,
   "id": "98556b39-02c3-4f26-964f-65e6e536127d",
   "metadata": {},
   "outputs": [],
   "source": []
  },
  {
   "cell_type": "code",
   "execution_count": null,
   "id": "eb69f3a0-79da-4373-a593-bb9449705567",
   "metadata": {},
   "outputs": [],
   "source": []
  }
 ],
 "metadata": {
  "kernelspec": {
   "display_name": "Python 3 (ipykernel)",
   "language": "python",
   "name": "python3"
  },
  "language_info": {
   "codemirror_mode": {
    "name": "ipython",
    "version": 3
   },
   "file_extension": ".py",
   "mimetype": "text/x-python",
   "name": "python",
   "nbconvert_exporter": "python",
   "pygments_lexer": "ipython3",
   "version": "3.10.12"
  }
 },
 "nbformat": 4,
 "nbformat_minor": 5
}
